{
 "cells": [
  {
   "cell_type": "code",
   "execution_count": 1,
   "id": "8ec751ab",
   "metadata": {},
   "outputs": [
    {
     "name": "stdout",
     "output_type": "stream",
     "text": [
      "Hello world\n"
     ]
    }
   ],
   "source": [
    "print(\"Hello world\")\n"
   ]
  },
  {
   "cell_type": "code",
   "execution_count": 2,
   "id": "751006bb",
   "metadata": {},
   "outputs": [
    {
     "name": "stdout",
     "output_type": "stream",
     "text": [
      "Dhruvansh pachauri\n"
     ]
    }
   ],
   "source": [
    "print(\"Dhruvansh pachauri\")"
   ]
  },
  {
   "cell_type": "markdown",
   "id": "eb97f6e3",
   "metadata": {},
   "source": [
    "### It should be written as print not Print\n"
   ]
  },
  {
   "cell_type": "markdown",
   "id": "d9271107",
   "metadata": {},
   "source": [
    "#### It should be written as print not Print"
   ]
  },
  {
   "cell_type": "markdown",
   "id": "cbe36604",
   "metadata": {},
   "source": [
    "#### it should be written as print not Print"
   ]
  },
  {
   "cell_type": "markdown",
   "id": "df4c7a70",
   "metadata": {},
   "source": [
    "## It should be written as print not Print"
   ]
  },
  {
   "cell_type": "markdown",
   "id": "b7111eaa",
   "metadata": {},
   "source": [
    "# It should be written as print not Print"
   ]
  },
  {
   "cell_type": "code",
   "execution_count": null,
   "id": "6e19c40e",
   "metadata": {},
   "outputs": [],
   "source": []
  },
  {
   "cell_type": "code",
   "execution_count": 3,
   "id": "3fcd5c7b",
   "metadata": {},
   "outputs": [
    {
     "name": "stdout",
     "output_type": "stream",
     "text": [
      " Welcome to the analytics world\n"
     ]
    }
   ],
   "source": [
    "print(\" Welcome to the analytics world\")"
   ]
  },
  {
   "cell_type": "code",
   "execution_count": null,
   "id": "6ef9aa4c",
   "metadata": {},
   "outputs": [],
   "source": []
  },
  {
   "cell_type": "markdown",
   "id": "a487447c",
   "metadata": {},
   "source": [
    "### Data types "
   ]
  },
  {
   "cell_type": "code",
   "execution_count": 4,
   "id": "e64484a7",
   "metadata": {},
   "outputs": [
    {
     "name": "stdout",
     "output_type": "stream",
     "text": [
      "100\n"
     ]
    }
   ],
   "source": [
    "x=100\n",
    "print(x)"
   ]
  },
  {
   "cell_type": "code",
   "execution_count": 5,
   "id": "deb459f3",
   "metadata": {},
   "outputs": [
    {
     "data": {
      "text/plain": [
       "int"
      ]
     },
     "execution_count": 5,
     "metadata": {},
     "output_type": "execute_result"
    }
   ],
   "source": [
    "type(x)"
   ]
  },
  {
   "cell_type": "code",
   "execution_count": 6,
   "id": "11f69638",
   "metadata": {},
   "outputs": [
    {
     "data": {
      "text/plain": [
       "float"
      ]
     },
     "execution_count": 6,
     "metadata": {},
     "output_type": "execute_result"
    }
   ],
   "source": [
    "x=112.76\n",
    "type(x)"
   ]
  },
  {
   "cell_type": "code",
   "execution_count": 9,
   "id": "d7a579c0",
   "metadata": {},
   "outputs": [
    {
     "data": {
      "text/plain": [
       "str"
      ]
     },
     "execution_count": 9,
     "metadata": {},
     "output_type": "execute_result"
    }
   ],
   "source": [
    "course=\"Analytics\"\n",
    "type(course)"
   ]
  },
  {
   "cell_type": "code",
   "execution_count": 12,
   "id": "437c2c01",
   "metadata": {},
   "outputs": [
    {
     "data": {
      "text/plain": [
       "bool"
      ]
     },
     "execution_count": 12,
     "metadata": {},
     "output_type": "execute_result"
    }
   ],
   "source": [
    "z=True\n",
    "type(z)"
   ]
  },
  {
   "cell_type": "code",
   "execution_count": 13,
   "id": "5e728700",
   "metadata": {},
   "outputs": [
    {
     "data": {
      "text/plain": [
       "bool"
      ]
     },
     "execution_count": 13,
     "metadata": {},
     "output_type": "execute_result"
    }
   ],
   "source": [
    "z=False\n",
    "type(z)"
   ]
  },
  {
   "cell_type": "code",
   "execution_count": 14,
   "id": "cb4dd330",
   "metadata": {},
   "outputs": [
    {
     "data": {
      "text/plain": [
       "str"
      ]
     },
     "execution_count": 14,
     "metadata": {},
     "output_type": "execute_result"
    }
   ],
   "source": [
    "z=\"true\"\n",
    "type(z)"
   ]
  },
  {
   "cell_type": "markdown",
   "id": "0835a44e",
   "metadata": {},
   "source": [
    "### Data types"
   ]
  },
  {
   "cell_type": "markdown",
   "id": "b8eeb515",
   "metadata": {},
   "source": [
    "## Dta types"
   ]
  },
  {
   "cell_type": "code",
   "execution_count": 15,
   "id": "94399f11",
   "metadata": {},
   "outputs": [
    {
     "data": {
      "text/plain": [
       "float"
      ]
     },
     "execution_count": 15,
     "metadata": {},
     "output_type": "execute_result"
    }
   ],
   "source": [
    "type(x)"
   ]
  },
  {
   "cell_type": "code",
   "execution_count": 16,
   "id": "92181995",
   "metadata": {},
   "outputs": [
    {
     "data": {
      "text/plain": [
       "100"
      ]
     },
     "execution_count": 16,
     "metadata": {},
     "output_type": "execute_result"
    }
   ],
   "source": [
    "x=100\n",
    "x"
   ]
  },
  {
   "cell_type": "code",
   "execution_count": 17,
   "id": "a29fc0fe",
   "metadata": {},
   "outputs": [
    {
     "data": {
      "text/plain": [
       "int"
      ]
     },
     "execution_count": 17,
     "metadata": {},
     "output_type": "execute_result"
    }
   ],
   "source": [
    "type(x)"
   ]
  },
  {
   "cell_type": "markdown",
   "id": "f4ec341f",
   "metadata": {},
   "source": [
    "#### 1. No decimal point -Integer\n",
    "#### 2. Decimal point - Float\n",
    "#### 3. Text - String (and it should be in inverted commma)\n",
    "#### 4. True/false- Bool"
   ]
  },
  {
   "cell_type": "markdown",
   "id": "e58ca6d7",
   "metadata": {},
   "source": [
    "#### Rules for naming variable"
   ]
  },
  {
   "cell_type": "code",
   "execution_count": 23,
   "id": "96a1a362",
   "metadata": {},
   "outputs": [
    {
     "data": {
      "text/plain": [
       "('Dhruvansh pachauri', 'Gaurav kumar')"
      ]
     },
     "execution_count": 23,
     "metadata": {},
     "output_type": "execute_result"
    }
   ],
   "source": [
    "name_list=\"Dhruvansh pachauri\",'Gaurav kumar'\n",
    "name_list"
   ]
  },
  {
   "cell_type": "code",
   "execution_count": 28,
   "id": "54aada46",
   "metadata": {},
   "outputs": [
    {
     "data": {
      "text/plain": [
       "'Dhruvansh'"
      ]
     },
     "execution_count": 28,
     "metadata": {},
     "output_type": "execute_result"
    }
   ],
   "source": [
    "namelist= \"Dhruvansh\"\n",
    "namelist"
   ]
  },
  {
   "cell_type": "code",
   "execution_count": 29,
   "id": "38dbfd18",
   "metadata": {},
   "outputs": [
    {
     "data": {
      "text/plain": [
       "'dhruvansh'"
      ]
     },
     "execution_count": 29,
     "metadata": {},
     "output_type": "execute_result"
    }
   ],
   "source": [
    "Namelist=\"dhruvansh\"\n",
    "Namelist"
   ]
  },
  {
   "cell_type": "code",
   "execution_count": 30,
   "id": "77751f71",
   "metadata": {},
   "outputs": [
    {
     "data": {
      "text/plain": [
       "'Dhruvansh'"
      ]
     },
     "execution_count": 30,
     "metadata": {},
     "output_type": "execute_result"
    }
   ],
   "source": [
    "n4amelist= \"Dhruvansh\"\n",
    "n4amelist"
   ]
  },
  {
   "cell_type": "code",
   "execution_count": 31,
   "id": "7b668cbe",
   "metadata": {},
   "outputs": [
    {
     "ename": "SyntaxError",
     "evalue": "cannot assign to operator (Temp/ipykernel_16000/4262541883.py, line 1)",
     "output_type": "error",
     "traceback": [
      "\u001b[1;36m  File \u001b[1;32m\"C:\\Users\\DHRUVA~1\\AppData\\Local\\Temp/ipykernel_16000/4262541883.py\"\u001b[1;36m, line \u001b[1;32m1\u001b[0m\n\u001b[1;33m    name+list= \"Dhruvansh\"\u001b[0m\n\u001b[1;37m    ^\u001b[0m\n\u001b[1;31mSyntaxError\u001b[0m\u001b[1;31m:\u001b[0m cannot assign to operator\n"
     ]
    }
   ],
   "source": [
    "name+list= \"Dhruvansh\"\n",
    "name+list"
   ]
  },
  {
   "cell_type": "markdown",
   "id": "da03859f",
   "metadata": {},
   "source": [
    "#### Only alphabet , number and underscore is allowed"
   ]
  },
  {
   "cell_type": "code",
   "execution_count": 33,
   "id": "ca16948e",
   "metadata": {},
   "outputs": [
    {
     "data": {
      "text/plain": [
       "'Dhruvansh'"
      ]
     },
     "execution_count": 33,
     "metadata": {},
     "output_type": "execute_result"
    }
   ],
   "source": [
    "namelist= \"Dhruvansh\"\n",
    "namelist"
   ]
  },
  {
   "cell_type": "markdown",
   "id": "38649ff9",
   "metadata": {},
   "source": [
    "#### It should only start with a-z, A-Z, or underscore_\n",
    "#### It should not start with a number\n",
    "#### Only special character allowed is Underscore\n",
    "#### Space is not allowed\n",
    "#### Case sensitive"
   ]
  },
  {
   "cell_type": "code",
   "execution_count": null,
   "id": "de9a9ae9",
   "metadata": {},
   "outputs": [],
   "source": []
  }
 ],
 "metadata": {
  "kernelspec": {
   "display_name": "Python 3 (ipykernel)",
   "language": "python",
   "name": "python3"
  },
  "language_info": {
   "codemirror_mode": {
    "name": "ipython",
    "version": 3
   },
   "file_extension": ".py",
   "mimetype": "text/x-python",
   "name": "python",
   "nbconvert_exporter": "python",
   "pygments_lexer": "ipython3",
   "version": "3.9.7"
  }
 },
 "nbformat": 4,
 "nbformat_minor": 5
}
